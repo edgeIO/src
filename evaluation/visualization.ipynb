{
 "cells": [
  {
   "cell_type": "code",
   "execution_count": null,
   "metadata": {},
   "outputs": [],
   "source": [
    "import seaborn as sns\n",
    "import pandas as pd\n",
    "import matplotlib.pyplot as plt\n",
    "import numpy as np\n",
    "from pandas.tseries.offsets import Nano"
   ]
  },
  {
   "cell_type": "code",
   "execution_count": null,
   "metadata": {},
   "outputs": [],
   "source": [
    "experiment = 'experiment5'"
   ]
  },
  {
   "cell_type": "code",
   "execution_count": null,
   "metadata": {},
   "outputs": [],
   "source": [
    "df1 = pd.read_csv(f\"results/{experiment}/entries_0.csv\")\n",
    "df2 = pd.read_csv(f\"results/{experiment}/entries_1.csv\")\n",
    "\n",
    "df1['File'] = 'OAK custom resources objects'\n",
    "df2['File'] = 'Kube custom resources objects'\n",
    "\n",
    "concat_df = pd.concat([df1, df2])\n",
    "\n",
    "# Boxplot for creation_time\n",
    "box_plot_creation = sns.boxplot(data=concat_df, x='File', y='creation_time', showfliers=False)\n",
    "\n",
    "means_creation = concat_df.groupby('File')['creation_time'].mean()\n",
    "medians_creation = concat_df.groupby('File')['creation_time'].median()\n",
    "\n",
    "xlabels = box_plot_creation.get_xticklabels()\n",
    "\n",
    "for i, xlabel in enumerate(xlabels):\n",
    "    mean = means_creation[xlabel.get_text()]\n",
    "    median = medians_creation[xlabel.get_text()]\n",
    "    box_plot_creation.text(i, mean, f'Mean: {mean:.6f}', horizontalalignment='center', color='black', weight='semibold')\n",
    "    box_plot_creation.text(i, median, f'Median: {median:.6f}', horizontalalignment='center', color='blue', weight='semibold')\n",
    "\n",
    "plt.tight_layout()\n",
    "plt.show()\n",
    "\n",
    "print(means_creation)\n",
    "print(medians_creation)"
   ]
  },
  {
   "cell_type": "code",
   "execution_count": null,
   "metadata": {},
   "outputs": [],
   "source": []
  }
 ],
 "metadata": {
  "kernelspec": {
   "display_name": ".venv",
   "language": "python",
   "name": "python3"
  },
  "language_info": {
   "codemirror_mode": {
    "name": "ipython",
    "version": 3
   },
   "file_extension": ".py",
   "mimetype": "text/x-python",
   "name": "python",
   "nbconvert_exporter": "python",
   "pygments_lexer": "ipython3",
   "version": "3.8.5"
  }
 },
 "nbformat": 4,
 "nbformat_minor": 2
}
