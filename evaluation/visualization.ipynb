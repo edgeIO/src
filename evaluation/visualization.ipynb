{
 "cells": [
  {
   "cell_type": "code",
   "execution_count": null,
   "metadata": {},
   "outputs": [],
   "source": [
    "import seaborn as sns\n",
    "import pandas as pd\n",
    "import matplotlib.pyplot as plt\n",
    "import numpy as np\n",
    "from pandas.tseries.offsets import Nano"
   ]
  },
  {
   "cell_type": "code",
   "execution_count": null,
   "metadata": {},
   "outputs": [],
   "source": [
    "experiment = 'experiment7'"
   ]
  },
  {
   "cell_type": "code",
   "execution_count": null,
   "metadata": {},
   "outputs": [],
   "source": [
    "df1 = pd.read_csv(f\"results/{experiment}/deployment.test1.csv\")\n",
    "df2 = pd.read_csv(f\"results/{experiment}/deployment.test2.csv\")\n",
    "\n",
    "df1['File'] = 'Apps'\n",
    "df2['File'] = 'Apps + Addons'\n",
    "\n",
    "concat_df = pd.concat([df1, df2])\n",
    "\n",
    "box_plot = sns.boxplot(data=concat_df, x='File', y='deployment_time', showfliers=False)\n",
    "\n",
    "means = concat_df.groupby('File')['deployment_time'].mean()\n",
    "medians = concat_df.groupby('File')['deployment_time'].median()\n",
    "\n",
    "for i in range(len(means)):\n",
    "    box_plot.text(i, means[i], f'Mean: {means[i]:.4f}', horizontalalignment='center', color='black', weight='semibold')\n",
    "    box_plot.text(i, medians[i], f'Median: {medians[i]:.4f}', horizontalalignment='center', color='blue', weight='semibold')\n",
    "\n",
    "plt.xlabel('File')\n",
    "plt.ylabel('Deployment Time')\n",
    "plt.title('Comparison of Deployment Times')\n",
    "\n",
    "plt.show()"
   ]
  },
  {
   "cell_type": "code",
   "execution_count": null,
   "metadata": {},
   "outputs": [],
   "source": [
    "def create_line_graph(df, metric):\n",
    "    fig, ax1 = plt.subplots(figsize=(10, 6))\n",
    "    line_plot = sns.lineplot(data=df, x='timestamp', y=metric, hue='File', ax=ax1)\n",
    "\n",
    "    # Set labels and title\n",
    "    ax1.set_xlabel('Time')\n",
    "    ax1.set_ylabel(metric)\n",
    "    ax1.set_title(f'Comparison of {metric} over time')\n",
    "\n",
    "    # Create a second x-axis\n",
    "    ax2 = ax1.twiny()\n",
    "    ax2.set_xlabel('Services Deployed')\n",
    "    ax2.set_xlim(0, 63)\n",
    "\n",
    "    # Show the plot\n",
    "    plt.show()\n",
    "\n",
    "cpu = '%CPU'\n",
    "mem = 'MEM'\n",
    "    \n",
    "df1 = pd.read_csv(f\"results/{experiment}/cpumem.test1.csv\")\n",
    "df3 = pd.read_csv(f\"results/{experiment}/cpumem.test1a.csv\")\n",
    "\n",
    "df2 = pd.read_csv(f\"results/{experiment}/cpumem.test2.csv\")\n",
    "df4 = pd.read_csv(f\"results/{experiment}/cpumem.test2a.csv\")\n",
    "\n",
    "df1['File'] = 'Apps'\n",
    "df3['File'] = 'System idle'\n",
    "\n",
    "df2['File'] = 'Apps + Addons'\n",
    "df4['File'] = 'Addons only'\n",
    "\n",
    "# Convert columns to numeric\n",
    "for column in [cpu, mem]:\n",
    "    df1[column] = df1[column].astype(str).str.rstrip('%').astype('float')\n",
    "    df3[column] = df3[column].astype(str).str.rstrip('%').astype('float')\n",
    "\n",
    "    df2[column] = df2[column].astype(str).str.rstrip('%').astype('float')\n",
    "    df4[column] = df4[column].astype(str).str.rstrip('%').astype('float')\n",
    "\n",
    "# Normalize time\n",
    "df1['timestamp'] = df1['timestamp'] - df1['timestamp'].min()\n",
    "df3['timestamp'] = df3['timestamp'] - df3['timestamp'].min()\n",
    "\n",
    "df2['timestamp'] = df2['timestamp'] - df2['timestamp'].min()\n",
    "df4['timestamp'] = df4['timestamp'] - df4['timestamp'].min()\n",
    "\n",
    "window_size = 5\n",
    "df1[cpu] = df1[cpu].rolling(window=window_size).mean()\n",
    "df3[cpu] = df3[cpu].rolling(window=window_size).mean()\n",
    "\n",
    "df2[cpu] = df2[cpu].rolling(window=window_size).mean()\n",
    "df4[cpu] = df4[cpu].rolling(window=window_size).mean()\n",
    "\n",
    "df1[mem] = df1[mem].rolling(window=window_size).mean()\n",
    "df3[mem] = df3[mem].rolling(window=window_size).mean()\n",
    "\n",
    "df2[mem] = df2[mem].rolling(window=window_size).mean()\n",
    "df4[mem] = df4[mem].rolling(window=window_size).mean()\n",
    "\n",
    "\n",
    "concat_df = pd.concat([df1, df3, df2, df4])\n",
    "concat_df.reset_index(inplace=True)\n",
    "    "
   ]
  },
  {
   "cell_type": "code",
   "execution_count": null,
   "metadata": {},
   "outputs": [],
   "source": [
    "create_line_graph(concat_df, cpu)"
   ]
  },
  {
   "cell_type": "code",
   "execution_count": null,
   "metadata": {},
   "outputs": [],
   "source": [
    "create_line_graph(concat_df, mem)"
   ]
  }
 ],
 "metadata": {
  "kernelspec": {
   "display_name": ".venv",
   "language": "python",
   "name": "python3"
  },
  "language_info": {
   "codemirror_mode": {
    "name": "ipython",
    "version": 3
   },
   "file_extension": ".py",
   "mimetype": "text/x-python",
   "name": "python",
   "nbconvert_exporter": "python",
   "pygments_lexer": "ipython3",
   "version": "3.8.5"
  }
 },
 "nbformat": 4,
 "nbformat_minor": 2
}
