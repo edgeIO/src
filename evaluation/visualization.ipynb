{
 "cells": [
  {
   "cell_type": "code",
   "execution_count": null,
   "metadata": {},
   "outputs": [],
   "source": [
    "import seaborn as sns\n",
    "import pandas as pd\n",
    "import matplotlib.pyplot as plt\n",
    "import numpy as np\n",
    "from pandas.tseries.offsets import Nano"
   ]
  },
  {
   "cell_type": "code",
   "execution_count": null,
   "metadata": {},
   "outputs": [],
   "source": [
    "df1 = pd.read_csv('deployment.test3.csv')\n",
    "df2 = pd.read_csv('deployment.test4.csv')\n",
    "df1['File'] = 'Apps'\n",
    "df2['File'] = 'Apps + Addons'\n",
    "\n",
    "concat_df = pd.concat([df1, df2])\n",
    "\n",
    "box_plot = sns.boxplot(data=concat_df, x='File', y='deployment_time')\n",
    "\n",
    "means = concat_df.groupby('File')['deployment_time'].mean()\n",
    "medians = concat_df.groupby('File')['deployment_time'].median()\n",
    "\n",
    "for i in range(len(means)):\n",
    "    box_plot.text(i, means[i], f'Mean: {means[i]:.2f}', horizontalalignment='center', color='black', weight='semibold')\n",
    "    box_plot.text(i, medians[i], f'Median: {medians[i]:.2f}', horizontalalignment='center', color='blue', weight='semibold')\n",
    "\n",
    "plt.xlabel('File')\n",
    "plt.ylabel('Deployment Time')\n",
    "plt.title('Comparison of Deployment Times')\n",
    "\n",
    "plt.show()"
   ]
  },
  {
   "cell_type": "code",
   "execution_count": null,
   "metadata": {},
   "outputs": [],
   "source": [
    "def create_line_graph(df, metric):\n",
    "    plt.figure(figsize=(10, 6))\n",
    "    line_plot = sns.lineplot(data=df, x='time', y=metric, hue='File')\n",
    "\n",
    "    # Set labels and title\n",
    "    plt.xlabel('Time')\n",
    "    plt.ylabel(metric)\n",
    "    plt.title(f'Comparison of {metric} over time')\n",
    "\n",
    "    # Show the plot\n",
    "    plt.show()"
   ]
  },
  {
   "cell_type": "code",
   "execution_count": null,
   "metadata": {},
   "outputs": [],
   "source": [
    "df1 = pd.read_csv('cpumem.test3.csv')\n",
    "df2 = pd.read_csv('cpumem.test4.csv')\n",
    "df1['File'] = 'Apps'\n",
    "df2['File'] = 'Apps + Addons'\n",
    "\n",
    "# Convert columns to numeric\n",
    "for column in ['%CPU', '%MEM', '%MaxCPUCore', '%ContainerUsage']:\n",
    "    df1[column] = df1[column].astype(str).str.rstrip('%').astype('float')\n",
    "    df2[column] = df2[column].astype(str).str.rstrip('%').astype('float')\n",
    "\n",
    "df1['time'] = pd.to_datetime(df1['time'], format='%H:%M:%S')\n",
    "df2['time'] = pd.to_datetime(df2['time'], format='%H:%M:%S')\n",
    "\n",
    "# Normalize time\n",
    "df1['time'] = df1['time'] - df1['time'].min()\n",
    "df2['time'] = df2['time'] - df2['time'].min()\n",
    "\n",
    "# Moving average\n",
    "window_size = 15\n",
    "df1['%CPU'] = df1['%CPU'].rolling(window=window_size).mean()\n",
    "df2['%CPU'] = df2['%CPU'].rolling(window=window_size).mean()\n",
    "\n",
    "df1['%MEM'] = df1['%MEM'].rolling(window=window_size).mean()\n",
    "df2['%MEM'] = df2['%MEM'].rolling(window=window_size).mean()\n",
    "\n",
    "df1['%MaxCPUCore'] = df1['%MaxCPUCore'].rolling(window=window_size).mean()\n",
    "df2['%MaxCPUCore'] = df2['%MaxCPUCore'].rolling(window=window_size).mean()\n",
    "\n",
    "df1['%ContainerUsage'] = df1['%ContainerUsage'].rolling(window=window_size).mean()\n",
    "df2['%ContainerUsage'] = df2['%ContainerUsage'].rolling(window=window_size).mean()\n",
    "\n",
    "concat_df = pd.concat([df1, df2])\n",
    "concat_df.reset_index(drop=True, inplace=True)\n",
    "    "
   ]
  },
  {
   "cell_type": "code",
   "execution_count": null,
   "metadata": {},
   "outputs": [],
   "source": [
    "create_line_graph(concat_df, '%CPU')"
   ]
  },
  {
   "cell_type": "code",
   "execution_count": null,
   "metadata": {},
   "outputs": [],
   "source": [
    "create_line_graph(concat_df, '%MEM')"
   ]
  },
  {
   "cell_type": "code",
   "execution_count": null,
   "metadata": {},
   "outputs": [],
   "source": [
    "create_line_graph(concat_df, '%MaxCPUCore')"
   ]
  },
  {
   "cell_type": "code",
   "execution_count": null,
   "metadata": {},
   "outputs": [],
   "source": [
    "create_line_graph(concat_df, '%ContainerUsage')"
   ]
  }
 ],
 "metadata": {
  "kernelspec": {
   "display_name": ".venv",
   "language": "python",
   "name": "python3"
  },
  "language_info": {
   "codemirror_mode": {
    "name": "ipython",
    "version": 3
   },
   "file_extension": ".py",
   "mimetype": "text/x-python",
   "name": "python",
   "nbconvert_exporter": "python",
   "pygments_lexer": "ipython3",
   "version": "3.8.5"
  }
 },
 "nbformat": 4,
 "nbformat_minor": 2
}
