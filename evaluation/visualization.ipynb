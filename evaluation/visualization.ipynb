{
 "cells": [
  {
   "cell_type": "code",
   "execution_count": null,
   "metadata": {},
   "outputs": [],
   "source": [
    "import seaborn as sns\n",
    "import pandas as pd\n",
    "import matplotlib.pyplot as plt\n",
    "import numpy as np\n",
    "from pandas.tseries.offsets import Nano"
   ]
  },
  {
   "cell_type": "code",
   "execution_count": null,
   "metadata": {},
   "outputs": [],
   "source": [
    "experiment = 'experiment5'"
   ]
  },
  {
   "cell_type": "code",
   "execution_count": null,
   "metadata": {},
   "outputs": [],
   "source": [
    "df1 = pd.read_csv(f\"results/{experiment}/resources_0.csv\")\n",
    "df2 = pd.read_csv(f\"results/{experiment}/resources_1.csv\")\n",
    "\n",
    "df1['File'] = 'OAK custom resources'\n",
    "df2['File'] = 'Kube resources'\n",
    "\n",
    "concat_df = pd.concat([df1, df2])\n",
    "\n",
    "box_plot = sns.boxplot(data=concat_df, x='File', y='creation_time', showfliers=False)\n",
    "\n",
    "means = concat_df.groupby('File')['creation_time'].mean()\n",
    "medians = concat_df.groupby('File')['creation_time'].median()\n",
    "\n",
    "print(means)\n",
    "print(medians)\n",
    "\n",
    "for i in range(len(means)):\n",
    "    box_plot.text(i, means[i], f'Mean: {means[i]:.4f}', horizontalalignment='center', color='black', weight='semibold')\n",
    "    box_plot.text(i, medians[i], f'Median: {medians[i]:.4f}', horizontalalignment='center', color='blue', weight='semibold')\n",
    "\n",
    "plt.xlabel('File')\n",
    "plt.ylabel('Creation Time')\n",
    "plt.title('Comparison of Creation Times')\n",
    "\n",
    "plt.show()"
   ]
  },
  {
   "cell_type": "code",
   "execution_count": null,
   "metadata": {},
   "outputs": [],
   "source": []
  },
  {
   "cell_type": "code",
   "execution_count": null,
   "metadata": {},
   "outputs": [],
   "source": [
    "df1 = pd.read_csv(f\"results/{experiment}/entries_0.csv\")\n",
    "df2 = pd.read_csv(f\"results/{experiment}/entries_1.csv\")\n",
    "\n",
    "df1['File'] = 'OAK custom resources objects'\n",
    "df2['File'] = 'Kube custom resources objects'\n",
    "\n",
    "concat_df = pd.concat([df1, df2])\n",
    "\n",
    "# fig, axes = plt.subplots(2, 1, figsize=(10, 15))\n",
    "\n",
    "# Boxplot for creation_time\n",
    "box_plot_creation = sns.boxplot( data=concat_df, x='File', y='creation_time', showfliers=False)\n",
    "means_creation = concat_df.groupby('File')['creation_time'].mean()\n",
    "medians_creation = concat_df.groupby('File')['creation_time'].median()\n",
    "\n",
    "print(means_creation)\n",
    "print(medians_creation)\n",
    "\n",
    "for i in range(len(means_creation)):\n",
    "    box_plot_creation.text(i, means_creation[i], f'Mean: {means_creation[i]:.4f}', horizontalalignment='center', color='black', weight='semibold')\n",
    "    box_plot_creation.text(i, medians_creation[i], f'Median: {medians_creation[i]:.4f}', horizontalalignment='center', color='blue', weight='semibold')\n",
    "\n",
    "# Boxplot for deletion_time\n",
    "# box_plot_deletion = sns.boxplot(ax=axes[1], data=concat_df, x='File', y='deletion_time')\n",
    "# means_deletion = concat_df.groupby('File')['deletion_time'].mean()\n",
    "# medians_deletion = concat_df.groupby('File')['deletion_time'].median()\n",
    "\n",
    "# for i in range(len(means_deletion)):\n",
    "#     box_plot_deletion.text(i, means_deletion[i], f'Mean: {means_deletion[i]:.2f}', horizontalalignment='center', color='black', weight='semibold')\n",
    "#     box_plot_deletion.text(i, medians_deletion[i], f'Median: {medians_deletion[i]:.2f}', horizontalalignment='center', color='blue', weight='semibold')\n",
    "\n",
    "# Boxplot for retrieval_time\n",
    "# box_plot_retrieval = sns.boxplot(ax=axes[2], data=concat_df, x='File', y='retrieval_time',  showfliers=False)\n",
    "# means_retrieval = concat_df.groupby('File')['retrieval_time'].mean()\n",
    "# medians_retrieval = concat_df.groupby('File')['retrieval_time'].median()\n",
    "\n",
    "# for i in range(len(means_retrieval)):\n",
    "#     box_plot_retrieval.text(i, means_retrieval[i], f'Mean: {means_retrieval[i]:.2f}', horizontalalignment='center', color='black', weight='semibold')\n",
    "#     box_plot_retrieval.text(i, medians_retrieval[i], f'Median: {medians_retrieval[i]:.2f}', horizontalalignment='center', color='blue', weight='semibold')\n",
    "\n",
    "axes[0].set_xlabel('File')\n",
    "axes[0].set_ylabel('Creation Time')\n",
    "axes[0].set_title('Comparison of Creation Times')\n",
    "\n",
    "# axes[1].set_xlabel('File')\n",
    "# axes[1].set_ylabel('Deletion Time')\n",
    "# axes[1].set_title('Comparison of Deletion Times')\n",
    "\n",
    "# axes[2].set_xlabel('File')\n",
    "# axes[2].set_ylabel('Retrieval Time')\n",
    "# axes[2].set_title('Comparison of Retrieval Times')\n",
    "\n",
    "plt.tight_layout()\n",
    "plt.show()"
   ]
  },
  {
   "cell_type": "code",
   "execution_count": null,
   "metadata": {},
   "outputs": [],
   "source": []
  }
 ],
 "metadata": {
  "kernelspec": {
   "display_name": ".venv",
   "language": "python",
   "name": "python3"
  },
  "language_info": {
   "codemirror_mode": {
    "name": "ipython",
    "version": 3
   },
   "file_extension": ".py",
   "mimetype": "text/x-python",
   "name": "python",
   "nbconvert_exporter": "python",
   "pygments_lexer": "ipython3",
   "version": "3.8.5"
  }
 },
 "nbformat": 4,
 "nbformat_minor": 2
}
