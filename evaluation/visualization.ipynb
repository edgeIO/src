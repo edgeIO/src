{
 "cells": [
  {
   "cell_type": "code",
   "execution_count": null,
   "metadata": {},
   "outputs": [],
   "source": [
    "import seaborn as sns\n",
    "import pandas as pd\n",
    "import matplotlib.pyplot as plt\n",
    "import numpy as np\n",
    "\n",
    "# Load the CSV files into pandas DataFrames\n",
    "df1 = pd.read_csv('deployment.test1.csv')\n",
    "df2 = pd.read_csv('deployment.test2.csv')\n",
    "\n",
    "# Add a 'File' column to distinguish between the two files\n",
    "df1['File'] = 'Apps'\n",
    "df2['File'] = 'Apps + Addons'\n",
    "\n",
    "# Concatenate the two DataFrames\n",
    "concat_df = pd.concat([df1, df2])\n",
    "\n",
    "# Create a boxplot using seaborn\n",
    "box_plot = sns.boxplot(data=concat_df, x='File', y='deployment_time')\n",
    "\n",
    "# Calculate the means and medians\n",
    "means = concat_df.groupby('File')['deployment_time'].mean()\n",
    "medians = concat_df.groupby('File')['deployment_time'].median()\n",
    "\n",
    "# Add mean and median lines to the boxplot\n",
    "for i in range(len(means)):\n",
    "    box_plot.text(i, means[i], f'Mean: {means[i]:.2f}', horizontalalignment='center', color='black', weight='semibold')\n",
    "    box_plot.text(i, medians[i], f'Median: {medians[i]:.2f}', horizontalalignment='center', color='blue', weight='semibold')\n",
    "\n",
    "# Set labels and title\n",
    "plt.xlabel('File')\n",
    "plt.ylabel('Deployment Time')\n",
    "plt.title('Comparison of Deployment Times')\n",
    "\n",
    "# Show the plot\n",
    "plt.show()"
   ]
  }
 ],
 "metadata": {
  "kernelspec": {
   "display_name": ".venv",
   "language": "python",
   "name": "python3"
  },
  "language_info": {
   "codemirror_mode": {
    "name": "ipython",
    "version": 3
   },
   "file_extension": ".py",
   "mimetype": "text/x-python",
   "name": "python",
   "nbconvert_exporter": "python",
   "pygments_lexer": "ipython3",
   "version": "3.8.5"
  }
 },
 "nbformat": 4,
 "nbformat_minor": 2
}
