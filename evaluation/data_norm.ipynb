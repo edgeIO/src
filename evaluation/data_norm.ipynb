{
 "cells": [
  {
   "cell_type": "code",
   "execution_count": null,
   "metadata": {},
   "outputs": [],
   "source": [
    "import pandas as pd\n",
    "import glob"
   ]
  },
  {
   "cell_type": "code",
   "execution_count": null,
   "metadata": {},
   "outputs": [],
   "source": [
    "experiment = 'experiment7'\n",
    "test = 'test2a'\n",
    "\n",
    "def process_cpu_column(df):\n",
    "    df['%CPU'] = df['%CPU'].str.rstrip('%').astype(float)\n",
    "    return df\n",
    "\n",
    "file_paths = glob.glob(f'results/{experiment}/{test}/stat/*.csv')\n",
    "dfs = [process_cpu_column(pd.read_csv(file_path)) for file_path in file_paths]\n",
    "\n",
    "# Initialize the aggregated DataFrame\n",
    "aggregated_df = pd.DataFrame()\n",
    "aggregated_df['timestamp'] = dfs[0]['timestamp']\n",
    "\n",
    "aggregated_df['%CPU'] = sum(df['%CPU'] for df in dfs) / len(dfs)\n",
    "aggregated_df['%CPU_median'] = pd.concat([df['%CPU'] for df in dfs], axis=1).median(axis=1)\n",
    "aggregated_df['MEM'] = sum(df['MEM'] for df in dfs) / len(dfs)\n",
    "aggregated_df['MEM_median'] = pd.concat([df['MEM'] for df in dfs], axis=1).median(axis=1)\n",
    "\n",
    "aggregated_df.to_csv(f'results/{experiment}/cpumem.{test}.csv', index=False)\n",
    "\n",
    "aggregated_df.head()\n"
   ]
  },
  {
   "cell_type": "code",
   "execution_count": null,
   "metadata": {},
   "outputs": [],
   "source": [
    "experiment = 'experiment7'\n",
    "test = 'test2'\n",
    "\n",
    "dep_file_paths = glob.glob(f'results/{experiment}/{test}/dep/*.csv')\n",
    "deployment_dfs = [pd.read_csv(file_path) for file_path in dep_file_paths]\n",
    "\n",
    "# Group by test_no and calculate mean, median, and standard deviation for deployment_time\n",
    "aggregated_deployment_df = pd.DataFrame()\n",
    "aggregated_deployment_df['test_no'] = deployment_dfs[0]['test_no']\n",
    "aggregated_deployment_df['timestamp'] = deployment_dfs[0]['timestamp']\n",
    "aggregated_deployment_df['deployment_time'] = sum(df['deployment_time'] for df in deployment_dfs) / len(deployment_dfs)\n",
    "aggregated_deployment_df['deployment_time_median'] = pd.concat([df['deployment_time'] for df in deployment_dfs], axis=1).median(axis=1)\n",
    "\n",
    "aggregated_deployment_df.to_csv(f'results/{experiment}/deployment.{test}.csv', index=False)\n",
    "\n",
    "aggregated_deployment_df.head()\n"
   ]
  },
  {
   "cell_type": "code",
   "execution_count": null,
   "metadata": {},
   "outputs": [],
   "source": []
  }
 ],
 "metadata": {
  "kernelspec": {
   "display_name": ".venv",
   "language": "python",
   "name": "python3"
  },
  "language_info": {
   "codemirror_mode": {
    "name": "ipython",
    "version": 3
   },
   "file_extension": ".py",
   "mimetype": "text/x-python",
   "name": "python",
   "nbconvert_exporter": "python",
   "pygments_lexer": "ipython3",
   "version": "3.8.5"
  }
 },
 "nbformat": 4,
 "nbformat_minor": 2
}
